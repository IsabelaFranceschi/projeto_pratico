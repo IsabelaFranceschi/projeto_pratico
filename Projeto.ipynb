{
 "cells": [
  {
   "cell_type": "markdown",
   "metadata": {},
   "source": [
    "# Sistema de Recomendação "
   ]
  },
  {
   "cell_type": "markdown",
   "metadata": {},
   "source": [
    "![title](photo.jpg)"
   ]
  },
  {
   "cell_type": "markdown",
   "metadata": {},
   "source": [
    "### Detalhes do produto"
   ]
  },
  {
   "cell_type": "markdown",
   "metadata": {},
   "source": [
    "O objetivo deste produto é fornecer um serviço automatizado que recomenda leads para um usuário dado sua atual lista de clientes (Portfólio)."
   ]
  },
  {
   "cell_type": "markdown",
   "metadata": {},
   "source": [
    "Algumas empresas gostariam de saber quem são as demais empresas em um determinado mercado (população) que tem maior probabilidade se tornarem seus próximos clientes. Ou seja, a sua solução deve encontrar no mercado quem são os leads mais aderentes dado as características dos clientes presentes no portfólio do usuário.\n",
    "\n",
    "Além disso, sua solução deve ser agnóstica ao usuário. Qualquer usuário com uma lista de clientes que queira explorar esse mercado pode extrair valor do serviço.\n",
    "\n",
    "Para o desafio, deverão ser consideradas as seguintes bases:\n",
    "\n",
    "**Mercado**: Base com informações sobre as empresas do Mercado a ser considerado. \n",
    "\n",
    "**Portfolio 1**: Ids dos clientes da empresa 1 \n",
    "\n",
    "**Portfolio 2**: Ids dos clientes da empresa 2 \n",
    "\n",
    "**Portfolio 3**: Ids dos clientes da empresa 3\n",
    "\n",
    "Obs: todas as empresas(ids) dos portfolios estão contidos no Mercado(base de população)."
   ]
  },
  {
   "cell_type": "markdown",
   "metadata": {},
   "source": [
    "# Análise Exploratória"
   ]
  },
  {
   "cell_type": "markdown",
   "metadata": {},
   "source": [
    "##### Importação das bibliotecas:"
   ]
  },
  {
   "cell_type": "code",
   "execution_count": 1,
   "metadata": {},
   "outputs": [],
   "source": [
    "# Manipulação de dados.\n",
    "import pandas as pd\n",
    "import numpy as np\n",
    "\n",
    "# Visualização.\n",
    "import matplotlib.pyplot as plt\n",
    "import seaborn as sns\n",
    "\n",
    "# Processamento de dados.\n",
    "from sklearn.preprocessing import LabelEncoder\n",
    "from statistics import mode\n",
    "from sklearn.preprocessing import MinMaxScaler\n",
    "\n",
    "# Machine Learning.\n",
    "from sklearn.cluster import KMeans\n",
    "\n",
    "# Ignorar mensagens de aviso.\n",
    "import warnings \n",
    "warnings.filterwarnings(\"ignore\")"
   ]
  },
  {
   "cell_type": "markdown",
   "metadata": {},
   "source": [
    "### Leitura dos arquivos"
   ]
  },
  {
   "cell_type": "markdown",
   "metadata": {},
   "source": [
    "##### Dados do Mercado"
   ]
  },
  {
   "cell_type": "code",
   "execution_count": 2,
   "metadata": {},
   "outputs": [],
   "source": [
    "mercado = pd.read_csv('estaticos_market.csv', sep=\",\" , encoding=\"UTF8\")"
   ]
  },
  {
   "cell_type": "code",
   "execution_count": 3,
   "metadata": {},
   "outputs": [
    {
     "name": "stdout",
     "output_type": "stream",
     "text": [
      "A base de dados Mercado possui 462298 clientes e 182 atributos\n"
     ]
    }
   ],
   "source": [
    "print(\"A base de dados Mercado possui {} clientes e {} atributos\".format(mercado.shape[0], mercado.shape[1]))"
   ]
  },
  {
   "cell_type": "code",
   "execution_count": 4,
   "metadata": {},
   "outputs": [
    {
     "data": {
      "text/html": [
       "<div>\n",
       "<style scoped>\n",
       "    .dataframe tbody tr th:only-of-type {\n",
       "        vertical-align: middle;\n",
       "    }\n",
       "\n",
       "    .dataframe tbody tr th {\n",
       "        vertical-align: top;\n",
       "    }\n",
       "\n",
       "    .dataframe thead th {\n",
       "        text-align: right;\n",
       "    }\n",
       "</style>\n",
       "<table border=\"1\" class=\"dataframe\">\n",
       "  <thead>\n",
       "    <tr style=\"text-align: right;\">\n",
       "      <th></th>\n",
       "      <th>Unnamed: 0</th>\n",
       "      <th>id</th>\n",
       "      <th>fl_matriz</th>\n",
       "      <th>de_natureza_juridica</th>\n",
       "      <th>sg_uf</th>\n",
       "      <th>natureza_juridica_macro</th>\n",
       "      <th>de_ramo</th>\n",
       "      <th>setor</th>\n",
       "      <th>idade_empresa_anos</th>\n",
       "      <th>idade_emp_cat</th>\n",
       "      <th>...</th>\n",
       "      <th>media_meses_servicos</th>\n",
       "      <th>max_meses_servicos</th>\n",
       "      <th>min_meses_servicos</th>\n",
       "      <th>qt_funcionarios</th>\n",
       "      <th>qt_funcionarios_12meses</th>\n",
       "      <th>qt_funcionarios_24meses</th>\n",
       "      <th>tx_crescimento_12meses</th>\n",
       "      <th>tx_crescimento_24meses</th>\n",
       "      <th>tx_rotatividade</th>\n",
       "      <th>qt_filiais</th>\n",
       "    </tr>\n",
       "  </thead>\n",
       "  <tbody>\n",
       "    <tr>\n",
       "      <th>0</th>\n",
       "      <td>0</td>\n",
       "      <td>a6984c3ae395090e3bee8ad63c3758b110de096d5d8195...</td>\n",
       "      <td>True</td>\n",
       "      <td>SOCIEDADE EMPRESARIA LIMITADA</td>\n",
       "      <td>RN</td>\n",
       "      <td>ENTIDADES EMPRESARIAIS</td>\n",
       "      <td>INDUSTRIA DA CONSTRUCAO</td>\n",
       "      <td>CONSTRUÇÃO CIVIL</td>\n",
       "      <td>14.457534</td>\n",
       "      <td>10 a 15</td>\n",
       "      <td>...</td>\n",
       "      <td>43.738462</td>\n",
       "      <td>93.266667</td>\n",
       "      <td>19.166667</td>\n",
       "      <td>26.0</td>\n",
       "      <td>26.0</td>\n",
       "      <td>27.0</td>\n",
       "      <td>0.0</td>\n",
       "      <td>-3.703704</td>\n",
       "      <td>0.0</td>\n",
       "      <td>0</td>\n",
       "    </tr>\n",
       "    <tr>\n",
       "      <th>1</th>\n",
       "      <td>1</td>\n",
       "      <td>6178f41ade1365e44bc2c46654c2c8c0eaae27dcb476c4...</td>\n",
       "      <td>True</td>\n",
       "      <td>EMPRESARIO INDIVIDUAL</td>\n",
       "      <td>PI</td>\n",
       "      <td>OUTROS</td>\n",
       "      <td>SERVICOS DE ALOJAMENTO/ALIMENTACAO</td>\n",
       "      <td>SERVIÇO</td>\n",
       "      <td>1.463014</td>\n",
       "      <td>1 a 5</td>\n",
       "      <td>...</td>\n",
       "      <td>NaN</td>\n",
       "      <td>NaN</td>\n",
       "      <td>NaN</td>\n",
       "      <td>NaN</td>\n",
       "      <td>NaN</td>\n",
       "      <td>NaN</td>\n",
       "      <td>NaN</td>\n",
       "      <td>NaN</td>\n",
       "      <td>NaN</td>\n",
       "      <td>0</td>\n",
       "    </tr>\n",
       "  </tbody>\n",
       "</table>\n",
       "<p>2 rows × 182 columns</p>\n",
       "</div>"
      ],
      "text/plain": [
       "   Unnamed: 0                                                 id  fl_matriz  \\\n",
       "0           0  a6984c3ae395090e3bee8ad63c3758b110de096d5d8195...       True   \n",
       "1           1  6178f41ade1365e44bc2c46654c2c8c0eaae27dcb476c4...       True   \n",
       "\n",
       "            de_natureza_juridica sg_uf natureza_juridica_macro  \\\n",
       "0  SOCIEDADE EMPRESARIA LIMITADA    RN  ENTIDADES EMPRESARIAIS   \n",
       "1          EMPRESARIO INDIVIDUAL    PI                  OUTROS   \n",
       "\n",
       "                              de_ramo             setor  idade_empresa_anos  \\\n",
       "0             INDUSTRIA DA CONSTRUCAO  CONSTRUÇÃO CIVIL           14.457534   \n",
       "1  SERVICOS DE ALOJAMENTO/ALIMENTACAO           SERVIÇO            1.463014   \n",
       "\n",
       "  idade_emp_cat  ...  media_meses_servicos  max_meses_servicos  \\\n",
       "0       10 a 15  ...             43.738462           93.266667   \n",
       "1         1 a 5  ...                   NaN                 NaN   \n",
       "\n",
       "   min_meses_servicos  qt_funcionarios  qt_funcionarios_12meses  \\\n",
       "0           19.166667             26.0                     26.0   \n",
       "1                 NaN              NaN                      NaN   \n",
       "\n",
       "  qt_funcionarios_24meses  tx_crescimento_12meses  tx_crescimento_24meses  \\\n",
       "0                    27.0                     0.0               -3.703704   \n",
       "1                     NaN                     NaN                     NaN   \n",
       "\n",
       "   tx_rotatividade qt_filiais  \n",
       "0              0.0          0  \n",
       "1              NaN          0  \n",
       "\n",
       "[2 rows x 182 columns]"
      ]
     },
     "execution_count": 4,
     "metadata": {},
     "output_type": "execute_result"
    }
   ],
   "source": [
    "# Visualização das primeiras linhas:\n",
    "mercado.head(2)"
   ]
  },
  {
   "cell_type": "markdown",
   "metadata": {},
   "source": [
    "##### Dados dos Portfólios"
   ]
  },
  {
   "cell_type": "code",
   "execution_count": 5,
   "metadata": {},
   "outputs": [],
   "source": [
    "portfolio_1 = pd.read_csv('estaticos_portfolio1.csv', sep=\",\" , encoding=\"UTF8\")\n",
    "portfolio_2 = pd.read_csv('estaticos_portfolio2.csv', sep=\",\" , encoding=\"UTF8\")\n",
    "portfolio_3 = pd.read_csv('estaticos_portfolio3.csv', sep=\",\" , encoding=\"UTF8\")"
   ]
  },
  {
   "cell_type": "code",
   "execution_count": 6,
   "metadata": {},
   "outputs": [
    {
     "name": "stdout",
     "output_type": "stream",
     "text": [
      "A base de dados do Portfolio 1 possui 555 clientes e 182 atributos\n",
      "A base de dados do Portfolio 2 possui 566 clientes e 2 atributos\n",
      "A base de dados do Portfolio 3 possui 265 clientes e 2 atributos\n"
     ]
    }
   ],
   "source": [
    "print(\"A base de dados do Portfolio 1 possui {} clientes e {} atributos\".format(portfolio_1.shape[0], portfolio_1.shape[1]))\n",
    "print(\"A base de dados do Portfolio 2 possui {} clientes e {} atributos\".format(portfolio_2.shape[0], portfolio_2.shape[1]))\n",
    "print(\"A base de dados do Portfolio 3 possui {} clientes e {} atributos\".format(portfolio_3.shape[0], portfolio_3.shape[1]))"
   ]
  },
  {
   "cell_type": "code",
   "execution_count": 7,
   "metadata": {},
   "outputs": [
    {
     "data": {
      "text/html": [
       "<div>\n",
       "<style scoped>\n",
       "    .dataframe tbody tr th:only-of-type {\n",
       "        vertical-align: middle;\n",
       "    }\n",
       "\n",
       "    .dataframe tbody tr th {\n",
       "        vertical-align: top;\n",
       "    }\n",
       "\n",
       "    .dataframe thead th {\n",
       "        text-align: right;\n",
       "    }\n",
       "</style>\n",
       "<table border=\"1\" class=\"dataframe\">\n",
       "  <thead>\n",
       "    <tr style=\"text-align: right;\">\n",
       "      <th></th>\n",
       "      <th>Unnamed: 0</th>\n",
       "      <th>id</th>\n",
       "      <th>fl_matriz</th>\n",
       "      <th>de_natureza_juridica</th>\n",
       "      <th>sg_uf</th>\n",
       "      <th>natureza_juridica_macro</th>\n",
       "      <th>de_ramo</th>\n",
       "      <th>setor</th>\n",
       "      <th>idade_empresa_anos</th>\n",
       "      <th>idade_emp_cat</th>\n",
       "      <th>...</th>\n",
       "      <th>media_meses_servicos</th>\n",
       "      <th>max_meses_servicos</th>\n",
       "      <th>min_meses_servicos</th>\n",
       "      <th>qt_funcionarios</th>\n",
       "      <th>qt_funcionarios_12meses</th>\n",
       "      <th>qt_funcionarios_24meses</th>\n",
       "      <th>tx_crescimento_12meses</th>\n",
       "      <th>tx_crescimento_24meses</th>\n",
       "      <th>tx_rotatividade</th>\n",
       "      <th>qt_filiais</th>\n",
       "    </tr>\n",
       "  </thead>\n",
       "  <tbody>\n",
       "    <tr>\n",
       "      <th>0</th>\n",
       "      <td>0</td>\n",
       "      <td>dabe79bec87c88ae04e869bf6bd321ee5e1893cecf6625...</td>\n",
       "      <td>True</td>\n",
       "      <td>EMPRESARIO INDIVIDUAL</td>\n",
       "      <td>PI</td>\n",
       "      <td>OUTROS</td>\n",
       "      <td>COMERCIO VAREJISTA</td>\n",
       "      <td>COMERCIO</td>\n",
       "      <td>0.646575</td>\n",
       "      <td>&lt;= 1</td>\n",
       "      <td>...</td>\n",
       "      <td>NaN</td>\n",
       "      <td>NaN</td>\n",
       "      <td>NaN</td>\n",
       "      <td>NaN</td>\n",
       "      <td>NaN</td>\n",
       "      <td>NaN</td>\n",
       "      <td>NaN</td>\n",
       "      <td>NaN</td>\n",
       "      <td>NaN</td>\n",
       "      <td>0</td>\n",
       "    </tr>\n",
       "    <tr>\n",
       "      <th>1</th>\n",
       "      <td>1</td>\n",
       "      <td>32e5f4e10932153a7ba869cb0386e7e02d49d2461046b8...</td>\n",
       "      <td>False</td>\n",
       "      <td>EMPRESARIO INDIVIDUAL</td>\n",
       "      <td>MA</td>\n",
       "      <td>OUTROS</td>\n",
       "      <td>COMERCIO VAREJISTA</td>\n",
       "      <td>COMERCIO</td>\n",
       "      <td>6.586301</td>\n",
       "      <td>5 a 10</td>\n",
       "      <td>...</td>\n",
       "      <td>NaN</td>\n",
       "      <td>NaN</td>\n",
       "      <td>NaN</td>\n",
       "      <td>0.0</td>\n",
       "      <td>0.0</td>\n",
       "      <td>2.0</td>\n",
       "      <td>NaN</td>\n",
       "      <td>-100.0</td>\n",
       "      <td>0.0</td>\n",
       "      <td>4</td>\n",
       "    </tr>\n",
       "  </tbody>\n",
       "</table>\n",
       "<p>2 rows × 182 columns</p>\n",
       "</div>"
      ],
      "text/plain": [
       "   Unnamed: 0                                                 id  fl_matriz  \\\n",
       "0           0  dabe79bec87c88ae04e869bf6bd321ee5e1893cecf6625...       True   \n",
       "1           1  32e5f4e10932153a7ba869cb0386e7e02d49d2461046b8...      False   \n",
       "\n",
       "    de_natureza_juridica sg_uf natureza_juridica_macro             de_ramo  \\\n",
       "0  EMPRESARIO INDIVIDUAL    PI                  OUTROS  COMERCIO VAREJISTA   \n",
       "1  EMPRESARIO INDIVIDUAL    MA                  OUTROS  COMERCIO VAREJISTA   \n",
       "\n",
       "      setor  idade_empresa_anos idade_emp_cat  ...  media_meses_servicos  \\\n",
       "0  COMERCIO            0.646575          <= 1  ...                   NaN   \n",
       "1  COMERCIO            6.586301        5 a 10  ...                   NaN   \n",
       "\n",
       "   max_meses_servicos  min_meses_servicos  qt_funcionarios  \\\n",
       "0                 NaN                 NaN              NaN   \n",
       "1                 NaN                 NaN              0.0   \n",
       "\n",
       "   qt_funcionarios_12meses qt_funcionarios_24meses  tx_crescimento_12meses  \\\n",
       "0                      NaN                     NaN                     NaN   \n",
       "1                      0.0                     2.0                     NaN   \n",
       "\n",
       "   tx_crescimento_24meses  tx_rotatividade qt_filiais  \n",
       "0                     NaN              NaN          0  \n",
       "1                  -100.0              0.0          4  \n",
       "\n",
       "[2 rows x 182 columns]"
      ]
     },
     "execution_count": 7,
     "metadata": {},
     "output_type": "execute_result"
    }
   ],
   "source": [
    "# Visualização das primeiras linhas:\n",
    "portfolio_1.head(2)"
   ]
  },
  {
   "cell_type": "code",
   "execution_count": 8,
   "metadata": {},
   "outputs": [
    {
     "data": {
      "text/html": [
       "<div>\n",
       "<style scoped>\n",
       "    .dataframe tbody tr th:only-of-type {\n",
       "        vertical-align: middle;\n",
       "    }\n",
       "\n",
       "    .dataframe tbody tr th {\n",
       "        vertical-align: top;\n",
       "    }\n",
       "\n",
       "    .dataframe thead th {\n",
       "        text-align: right;\n",
       "    }\n",
       "</style>\n",
       "<table border=\"1\" class=\"dataframe\">\n",
       "  <thead>\n",
       "    <tr style=\"text-align: right;\">\n",
       "      <th></th>\n",
       "      <th>Unnamed: 0</th>\n",
       "      <th>id</th>\n",
       "    </tr>\n",
       "  </thead>\n",
       "  <tbody>\n",
       "    <tr>\n",
       "      <th>0</th>\n",
       "      <td>0</td>\n",
       "      <td>09e95c1a84049001d086470a8f320a19b076f955a89122...</td>\n",
       "    </tr>\n",
       "    <tr>\n",
       "      <th>1</th>\n",
       "      <td>1</td>\n",
       "      <td>dc9d155f5bcd3172031e2ec9431786e8871ff4b0ff4728...</td>\n",
       "    </tr>\n",
       "  </tbody>\n",
       "</table>\n",
       "</div>"
      ],
      "text/plain": [
       "   Unnamed: 0                                                 id\n",
       "0           0  09e95c1a84049001d086470a8f320a19b076f955a89122...\n",
       "1           1  dc9d155f5bcd3172031e2ec9431786e8871ff4b0ff4728..."
      ]
     },
     "execution_count": 8,
     "metadata": {},
     "output_type": "execute_result"
    }
   ],
   "source": [
    "# Visualização das primeiras linhas:\n",
    "portfolio_2.head(2)"
   ]
  },
  {
   "cell_type": "code",
   "execution_count": 9,
   "metadata": {},
   "outputs": [
    {
     "data": {
      "text/html": [
       "<div>\n",
       "<style scoped>\n",
       "    .dataframe tbody tr th:only-of-type {\n",
       "        vertical-align: middle;\n",
       "    }\n",
       "\n",
       "    .dataframe tbody tr th {\n",
       "        vertical-align: top;\n",
       "    }\n",
       "\n",
       "    .dataframe thead th {\n",
       "        text-align: right;\n",
       "    }\n",
       "</style>\n",
       "<table border=\"1\" class=\"dataframe\">\n",
       "  <thead>\n",
       "    <tr style=\"text-align: right;\">\n",
       "      <th></th>\n",
       "      <th>Unnamed: 0</th>\n",
       "      <th>id</th>\n",
       "    </tr>\n",
       "  </thead>\n",
       "  <tbody>\n",
       "    <tr>\n",
       "      <th>0</th>\n",
       "      <td>0</td>\n",
       "      <td>bb61c09449a1c1f8b78955d8b7a7f73599e78358993fe2...</td>\n",
       "    </tr>\n",
       "    <tr>\n",
       "      <th>1</th>\n",
       "      <td>1</td>\n",
       "      <td>16843c9ffb920170477118933798510d8d5f00f5c56c12...</td>\n",
       "    </tr>\n",
       "  </tbody>\n",
       "</table>\n",
       "</div>"
      ],
      "text/plain": [
       "   Unnamed: 0                                                 id\n",
       "0           0  bb61c09449a1c1f8b78955d8b7a7f73599e78358993fe2...\n",
       "1           1  16843c9ffb920170477118933798510d8d5f00f5c56c12..."
      ]
     },
     "execution_count": 9,
     "metadata": {},
     "output_type": "execute_result"
    }
   ],
   "source": [
    "# Visualização das primeiras linhas:\n",
    "portfolio_3.head(2)"
   ]
  },
  {
   "cell_type": "markdown",
   "metadata": {},
   "source": [
    "Os clientes dos portfolios estão também na base Mercado, essa separação em portfolios nos ajuda a identificar os clientes de cada empresa dentre todos os clientes do mercado. Com isso, ao final da criação do modelo, podemos \n",
    "avaliar a sua perfomance verificando quais clientes o modelo categorizou de forma correta. \n",
    "\n",
    "Sendo assim, a informação importante dos portfólios é a identificação do cliente representada pela coluna \"id\"."
   ]
  },
  {
   "cell_type": "markdown",
   "metadata": {},
   "source": [
    "### Análise dos dados ausentes"
   ]
  },
  {
   "cell_type": "code",
   "execution_count": 10,
   "metadata": {},
   "outputs": [],
   "source": [
    "# Dataframe que mostra os dados ausentes para cada variável em porcentagem:\n",
    "df_missing = pd.DataFrame({'Missing_values (%)': (mercado.isna().sum()/mercado.shape[0])*100})"
   ]
  },
  {
   "cell_type": "code",
   "execution_count": 11,
   "metadata": {},
   "outputs": [
    {
     "name": "stdout",
     "output_type": "stream",
     "text": [
      "Quantidade de colunas com dados faltantes 89.56%\n"
     ]
    }
   ],
   "source": [
    "# Variáveis com dados ausentes.\n",
    "print(\"Quantidade de colunas com dados faltantes {}%\".format(round(df_missing[df_missing['Missing_values (%)']>0].shape[0]/df_missing.shape[0]*100,2)))"
   ]
  },
  {
   "cell_type": "markdown",
   "metadata": {},
   "source": [
    "Vemos que quase 90% das colunas possuem ao menos 1 dado ausente."
   ]
  },
  {
   "cell_type": "code",
   "execution_count": 12,
   "metadata": {},
   "outputs": [
    {
     "name": "stdout",
     "output_type": "stream",
     "text": [
      "Quantidade de colunas com 50% de dados faltantes 71.98%\n"
     ]
    }
   ],
   "source": [
    "# Variáveis com mais de 50% de dados ausentes.\n",
    "print(\"Quantidade de colunas com 50% de dados faltantes {}%\".format(round(df_missing[df_missing['Missing_values (%)']>50].shape[0]/df_missing.shape[0]*100,2)))"
   ]
  },
  {
   "cell_type": "code",
   "execution_count": 13,
   "metadata": {},
   "outputs": [
    {
     "data": {
      "text/html": [
       "<div>\n",
       "<style scoped>\n",
       "    .dataframe tbody tr th:only-of-type {\n",
       "        vertical-align: middle;\n",
       "    }\n",
       "\n",
       "    .dataframe tbody tr th {\n",
       "        vertical-align: top;\n",
       "    }\n",
       "\n",
       "    .dataframe thead th {\n",
       "        text-align: right;\n",
       "    }\n",
       "</style>\n",
       "<table border=\"1\" class=\"dataframe\">\n",
       "  <thead>\n",
       "    <tr style=\"text-align: right;\">\n",
       "      <th></th>\n",
       "      <th>Missing_values (%)</th>\n",
       "    </tr>\n",
       "  </thead>\n",
       "  <tbody>\n",
       "    <tr>\n",
       "      <th>qt_alteracao_socio_total</th>\n",
       "      <td>100.0</td>\n",
       "    </tr>\n",
       "    <tr>\n",
       "      <th>qt_alteracao_socio_90d</th>\n",
       "      <td>100.0</td>\n",
       "    </tr>\n",
       "    <tr>\n",
       "      <th>qt_alteracao_socio_180d</th>\n",
       "      <td>100.0</td>\n",
       "    </tr>\n",
       "    <tr>\n",
       "      <th>qt_alteracao_socio_365d</th>\n",
       "      <td>100.0</td>\n",
       "    </tr>\n",
       "    <tr>\n",
       "      <th>grau_instrucao_macro_desconhecido</th>\n",
       "      <td>100.0</td>\n",
       "    </tr>\n",
       "  </tbody>\n",
       "</table>\n",
       "</div>"
      ],
      "text/plain": [
       "                                   Missing_values (%)\n",
       "qt_alteracao_socio_total                        100.0\n",
       "qt_alteracao_socio_90d                          100.0\n",
       "qt_alteracao_socio_180d                         100.0\n",
       "qt_alteracao_socio_365d                         100.0\n",
       "grau_instrucao_macro_desconhecido               100.0"
      ]
     },
     "execution_count": 13,
     "metadata": {},
     "output_type": "execute_result"
    }
   ],
   "source": [
    "# Colunas com todos os dados faltantes\n",
    "df_missing[df_missing['Missing_values (%)']==100]"
   ]
  },
  {
   "cell_type": "markdown",
   "metadata": {},
   "source": [
    "Aqui, percebe-se que a quantidade de atributos com dados ausentes é bastante significativa - quase 72% dos atributos não possuem ao menos 50% dos seus dados registrados e 5 atributos não possuem nenhum registro. "
   ]
  },
  {
   "cell_type": "markdown",
   "metadata": {},
   "source": [
    "##### Estudo das features"
   ]
  },
  {
   "cell_type": "code",
   "execution_count": 14,
   "metadata": {},
   "outputs": [
    {
     "data": {
      "text/plain": [
       "['Unnamed: 0',\n",
       " 'id',\n",
       " 'fl_matriz',\n",
       " 'de_natureza_juridica',\n",
       " 'sg_uf',\n",
       " 'natureza_juridica_macro',\n",
       " 'de_ramo',\n",
       " 'setor',\n",
       " 'idade_empresa_anos',\n",
       " 'idade_emp_cat',\n",
       " 'fl_me',\n",
       " 'fl_sa',\n",
       " 'fl_epp',\n",
       " 'fl_mei',\n",
       " 'fl_ltda',\n",
       " 'dt_situacao',\n",
       " 'fl_st_especial',\n",
       " 'fl_email',\n",
       " 'fl_telefone',\n",
       " 'fl_rm',\n",
       " 'nm_divisao',\n",
       " 'nm_segmento',\n",
       " 'fl_spa',\n",
       " 'fl_antt',\n",
       " 'fl_veiculo',\n",
       " 'vl_total_tancagem',\n",
       " 'vl_total_veiculos_antt',\n",
       " 'vl_total_veiculos_leves',\n",
       " 'vl_total_veiculos_pesados',\n",
       " 'fl_optante_simples',\n",
       " 'qt_art',\n",
       " 'vl_total_veiculos_pesados_grupo',\n",
       " 'vl_total_veiculos_leves_grupo',\n",
       " 'vl_total_tancagem_grupo',\n",
       " 'vl_total_veiculos_antt_grupo',\n",
       " 'vl_potenc_cons_oleo_gas',\n",
       " 'fl_optante_simei',\n",
       " 'sg_uf_matriz',\n",
       " 'de_saude_tributaria',\n",
       " 'de_saude_rescencia',\n",
       " 'nu_meses_rescencia',\n",
       " 'de_nivel_atividade',\n",
       " 'de_indicador_telefone',\n",
       " 'fl_simples_irregular',\n",
       " 'vl_frota',\n",
       " 'empsetorcensitariofaixarendapopulacao',\n",
       " 'nm_meso_regiao',\n",
       " 'nm_micro_regiao',\n",
       " 'fl_passivel_iss',\n",
       " 'qt_socios',\n",
       " 'qt_socios_pf',\n",
       " 'qt_socios_pj',\n",
       " 'idade_media_socios',\n",
       " 'idade_maxima_socios',\n",
       " 'idade_minima_socios',\n",
       " 'qt_socios_st_regular',\n",
       " 'qt_socios_st_suspensa',\n",
       " 'qt_socios_masculino',\n",
       " 'qt_socios_feminino',\n",
       " 'qt_socios_pep',\n",
       " 'qt_alteracao_socio_total',\n",
       " 'qt_alteracao_socio_90d',\n",
       " 'qt_alteracao_socio_180d',\n",
       " 'qt_alteracao_socio_365d',\n",
       " 'qt_socios_pj_ativos',\n",
       " 'qt_socios_pj_nulos',\n",
       " 'qt_socios_pj_baixados',\n",
       " 'qt_socios_pj_suspensos',\n",
       " 'qt_socios_pj_inaptos',\n",
       " 'vl_idade_media_socios_pj',\n",
       " 'vl_idade_maxima_socios_pj',\n",
       " 'vl_idade_minima_socios_pj',\n",
       " 'qt_coligados',\n",
       " 'qt_socios_coligados',\n",
       " 'qt_coligados_matriz',\n",
       " 'qt_coligados_ativo',\n",
       " 'qt_coligados_baixada',\n",
       " 'qt_coligados_inapta',\n",
       " 'qt_coligados_suspensa',\n",
       " 'qt_coligados_nula',\n",
       " 'idade_media_coligadas',\n",
       " 'idade_maxima_coligadas',\n",
       " 'idade_minima_coligadas',\n",
       " 'coligada_mais_nova_ativa',\n",
       " 'coligada_mais_antiga_ativa',\n",
       " 'idade_media_coligadas_ativas',\n",
       " 'coligada_mais_nova_baixada',\n",
       " 'coligada_mais_antiga_baixada',\n",
       " 'idade_media_coligadas_baixadas',\n",
       " 'qt_coligados_sa',\n",
       " 'qt_coligados_me',\n",
       " 'qt_coligados_mei',\n",
       " 'qt_coligados_ltda',\n",
       " 'qt_coligados_epp',\n",
       " 'qt_coligados_norte',\n",
       " 'qt_coligados_sul',\n",
       " 'qt_coligados_nordeste',\n",
       " 'qt_coligados_centro',\n",
       " 'qt_coligados_sudeste',\n",
       " 'qt_coligados_exterior',\n",
       " 'qt_ufs_coligados',\n",
       " 'qt_regioes_coligados',\n",
       " 'qt_ramos_coligados',\n",
       " 'qt_coligados_industria',\n",
       " 'qt_coligados_agropecuaria',\n",
       " 'qt_coligados_comercio',\n",
       " 'qt_coligados_serviço',\n",
       " 'qt_coligados_ccivil',\n",
       " 'qt_funcionarios_coligados',\n",
       " 'qt_funcionarios_coligados_gp',\n",
       " 'media_funcionarios_coligados_gp',\n",
       " 'max_funcionarios_coligados_gp',\n",
       " 'min_funcionarios_coligados_gp',\n",
       " 'vl_folha_coligados',\n",
       " 'media_vl_folha_coligados',\n",
       " 'max_vl_folha_coligados',\n",
       " 'min_vl_folha_coligados',\n",
       " 'vl_folha_coligados_gp',\n",
       " 'media_vl_folha_coligados_gp',\n",
       " 'max_vl_folha_coligados_gp',\n",
       " 'min_vl_folha_coligados_gp',\n",
       " 'faturamento_est_coligados',\n",
       " 'media_faturamento_est_coligados',\n",
       " 'max_faturamento_est_coligados',\n",
       " 'min_faturamento_est_coligados',\n",
       " 'faturamento_est_coligados_gp',\n",
       " 'media_faturamento_est_coligados_gp',\n",
       " 'max_faturamento_est_coligados_gp',\n",
       " 'min_faturamento_est_coligados_gp',\n",
       " 'total_filiais_coligados',\n",
       " 'media_filiais_coligados',\n",
       " 'max_filiais_coligados',\n",
       " 'min_filiais_coligados',\n",
       " 'qt_coligados_atividade_alto',\n",
       " 'qt_coligados_atividade_medio',\n",
       " 'qt_coligados_atividade_baixo',\n",
       " 'qt_coligados_atividade_mt_baixo',\n",
       " 'qt_coligados_atividade_inativo',\n",
       " 'qt_coligadas',\n",
       " 'sum_faturamento_estimado_coligadas',\n",
       " 'de_faixa_faturamento_estimado',\n",
       " 'de_faixa_faturamento_estimado_grupo',\n",
       " 'vl_faturamento_estimado_aux',\n",
       " 'vl_faturamento_estimado_grupo_aux',\n",
       " 'qt_ex_funcionarios',\n",
       " 'qt_funcionarios_grupo',\n",
       " 'percent_func_genero_masc',\n",
       " 'percent_func_genero_fem',\n",
       " 'idade_ate_18',\n",
       " 'idade_de_19_a_23',\n",
       " 'idade_de_24_a_28',\n",
       " 'idade_de_29_a_33',\n",
       " 'idade_de_34_a_38',\n",
       " 'idade_de_39_a_43',\n",
       " 'idade_de_44_a_48',\n",
       " 'idade_de_49_a_53',\n",
       " 'idade_de_54_a_58',\n",
       " 'idade_acima_de_58',\n",
       " 'grau_instrucao_macro_analfabeto',\n",
       " 'grau_instrucao_macro_escolaridade_fundamental',\n",
       " 'grau_instrucao_macro_escolaridade_media',\n",
       " 'grau_instrucao_macro_escolaridade_superior',\n",
       " 'grau_instrucao_macro_desconhecido',\n",
       " 'total',\n",
       " 'meses_ultima_contratacaco',\n",
       " 'qt_admitidos_12meses',\n",
       " 'qt_desligados_12meses',\n",
       " 'qt_desligados',\n",
       " 'qt_admitidos',\n",
       " 'media_meses_servicos_all',\n",
       " 'max_meses_servicos_all',\n",
       " 'min_meses_servicos_all',\n",
       " 'media_meses_servicos',\n",
       " 'max_meses_servicos',\n",
       " 'min_meses_servicos',\n",
       " 'qt_funcionarios',\n",
       " 'qt_funcionarios_12meses',\n",
       " 'qt_funcionarios_24meses',\n",
       " 'tx_crescimento_12meses',\n",
       " 'tx_crescimento_24meses',\n",
       " 'tx_rotatividade',\n",
       " 'qt_filiais']"
      ]
     },
     "execution_count": 14,
     "metadata": {},
     "output_type": "execute_result"
    }
   ],
   "source": [
    "list(mercado.columns)"
   ]
  },
  {
   "cell_type": "markdown",
   "metadata": {},
   "source": [
    "##### Significado de cada feature:"
   ]
  },
  {
   "cell_type": "markdown",
   "metadata": {},
   "source": [
    "**fl_matriz**: boolean value, true if the CNPJ corresponds to the \"matriz\".\n",
    "\n",
    "**de_natureza_juridica**: character, juridic nature of the company.\n",
    "\n",
    "**sg_uf**: character, initials of the name of the state of the company.\n",
    "\n",
    "**natureza_juridica_macro**: a macro legal category for \"natureza jurídica\".\n",
    "\n",
    "**de_ramo**: description of a macro activity category/branch based on the CNAE code.\n",
    "\n",
    "**setor**:character, economic sector of the company (Industry, Services, Agrobusiness, Etc.)\n",
    "\n",
    "**idade_empresa_anos**: numeric value, age of the company.\n",
    "\n",
    "**idade_emp_cat**: character, age of the company by ranges.\n",
    "\n",
    "**fl_me**: boolean value, true if the company has the term 'ME' in the end of its legal name.\n",
    "\n",
    "**fl_sa**: boolean value, true if the company has the term 'SA' in the end of its legal name.\n",
    "\n",
    "**fl_epp**: boolean value, true if the company has the term 'EPP' in the end of its legal name.\n",
    "\n",
    "**fl_mei**: boolean value, true if the company has the term 'MEI' in the end of its legal name.\n",
    "\n",
    "**fl_ltda**: boolean value, true if the company has the term 'LTDA' in the end of its legal name.\n",
    "\n",
    "**dt_situacao**: date when the \"de_situacao\" was registered by the IRS.\n",
    "\n",
    "**fl_st_especial**: boolean value, true if dt_situacao_especial is not null. If it is not null means that some extraordinary situation is identified by the IRS (ESPOLIO DE EMPRESARIO EMPRESA INDIVIDUAL OU EIRELI, FALIDO, EM LIQUIDACAO, LIQUIDACAO JUDICIAL, LIQUIDACAO EXTRA JUDICIAL, REGISTRO NA JUNTA COMERCIAL EM ANDAMENTO, EM LIQUID EXTRA JUDICIAL, RECUPERACAO JUDICIAL, INTERVENCAO)\n",
    "\n",
    "**fl_email**: boolean value, true if the cnpj has an email registered at the IRF database.\n",
    "\n",
    "**fl_telefone**: boolean value, true if the company has a phone number registered in IRS database.\n",
    "\n",
    "**fl_rm**: character, true if the company address is located in an metropolitan area.\n",
    "\n",
    "**nm_divisao**: character, name description of the primary economic activity of the company \n",
    "\n",
    "**nm_segmento**: character, name description of the primary economic activity cluster of the company \n",
    "\n",
    "**fl_spa**: boolean, true if the company has it's own fuel station\n",
    "\n",
    "**fl_antt**:boolean, true if the company is certified by ANTT for trasnportation purposes\n",
    "\n",
    "**fl_veiculo** :boolean, true if the company owns at least one vehicle\n",
    "\n",
    "**fl_optante_simples**: boolean, true if the company is taxed according to SIMPLES regime\n",
    "\n",
    "**vl_total_veiculos_pesados_grupo**: numeric, economic value of the heavy weight vehicles of the economic group of the company\n",
    "\n",
    "**vl_total_veiculos_leves_grupo**: numeric, economic value of the light weight vehicles of the economic group of the company\n",
    "\n",
    "**fl_optante_simei**: boolean, true if the company is taxed as an MEI - Individual Micro Entrepreneur (Micro Empreendedor Individual)\n",
    "\n",
    "**sg_uf_matriz**:character, state of the main office location\n",
    "\n",
    "**de_saude_tributaria**:character, indicator of health tax status, Green if all tax are OK, Red if none are OK \n",
    "\n",
    "**de_saude_rescencia**:character, indicates time of update of the most lagged input of the indicator. \n",
    "\n",
    "**nu_meses_rescencia**:character, number of months since the last update of the most lagged input from saude_tributaria\n",
    "\n",
    "**de_nivel_atividade**:character, probability of being operating, ALTA high probality, BAIXA, low probality. \n",
    "\n",
    "**fl_simples_irregular**: boolean, true if the company is taxed under the SIMPLES regime and has a impeditive CNAE (economic activities that are not allowed to be taxed according to the simples regime) revenue above the limit of the regime.\n",
    " \n",
    "**empsetorcensitariofaixarendapopulacao**: numeric, average income from a sample of residents in a census unity (smallest territory area according to IBGE)\n",
    "\n",
    "**nm_meso_regiao**:character, name of the meso region where the company is located. \n",
    "\n",
    "**nm_micro_regiao**:character, name of the micro region where the company is located. \n",
    "\n",
    "**fl_passivel_iss**:boolean, true if the company performs any activity that is taxable under ISS - Tax under services.\n",
    "\n",
    "**qt_socios**: integer value, quantity of partners/shareholders of the cnpj\n",
    "\n",
    "**qt_socios_pf**: integer value, quantity of partners/shareholders of the cnpj that are persons\n",
    "\n",
    "**qt_socios_pj**: integer value, quantity of partners/shareholders of the cnpj that are companies \n",
    "\n",
    "**idade_media_socios**: numeric value, average age of the partners of the cnpj(considers only the cpf partners)\n",
    "\n",
    "**idade_maxima_socios**: same as above but with max metric\n",
    "\n",
    "**idade_minima_socios**: same as above but wiht min metric\n",
    " \n",
    "**qt_socios_st_regular**: integer value, quantity of partners with regular situation under IRS - Receita Federal.\n",
    "\n",
    "**de_faixa_faturamento_estimado**: character value, class of the estimated revenue of the company. \n",
    "\n",
    "**de_faixa_faturamento_estimado_grupo**: character value, class of the sum of estimated revenue for the matrix company and branches.\n",
    "\n",
    "**vl_faturamento_estimado_aux**: numeric value, value of the estimated revenue. \n",
    "\n",
    "**vl_faturamento_estimado_grupo_aux**: numeric value, sum of the estimated revenue for the matrix company and the branches.\n",
    "\n",
    "**qt_filiais**: self-explanatory."
   ]
  },
  {
   "cell_type": "code",
   "execution_count": 15,
   "metadata": {},
   "outputs": [
    {
     "data": {
      "text/html": [
       "<div>\n",
       "<style scoped>\n",
       "    .dataframe tbody tr th:only-of-type {\n",
       "        vertical-align: middle;\n",
       "    }\n",
       "\n",
       "    .dataframe tbody tr th {\n",
       "        vertical-align: top;\n",
       "    }\n",
       "\n",
       "    .dataframe thead th {\n",
       "        text-align: right;\n",
       "    }\n",
       "</style>\n",
       "<table border=\"1\" class=\"dataframe\">\n",
       "  <thead>\n",
       "    <tr style=\"text-align: right;\">\n",
       "      <th></th>\n",
       "      <th>Unnamed: 0</th>\n",
       "      <th>id</th>\n",
       "      <th>fl_matriz</th>\n",
       "      <th>de_natureza_juridica</th>\n",
       "      <th>sg_uf</th>\n",
       "      <th>natureza_juridica_macro</th>\n",
       "      <th>de_ramo</th>\n",
       "      <th>setor</th>\n",
       "      <th>idade_empresa_anos</th>\n",
       "      <th>idade_emp_cat</th>\n",
       "      <th>...</th>\n",
       "      <th>media_meses_servicos</th>\n",
       "      <th>max_meses_servicos</th>\n",
       "      <th>min_meses_servicos</th>\n",
       "      <th>qt_funcionarios</th>\n",
       "      <th>qt_funcionarios_12meses</th>\n",
       "      <th>qt_funcionarios_24meses</th>\n",
       "      <th>tx_crescimento_12meses</th>\n",
       "      <th>tx_crescimento_24meses</th>\n",
       "      <th>tx_rotatividade</th>\n",
       "      <th>qt_filiais</th>\n",
       "    </tr>\n",
       "  </thead>\n",
       "  <tbody>\n",
       "    <tr>\n",
       "      <th>0</th>\n",
       "      <td>0</td>\n",
       "      <td>a6984c3ae395090e3bee8ad63c3758b110de096d5d8195...</td>\n",
       "      <td>True</td>\n",
       "      <td>SOCIEDADE EMPRESARIA LIMITADA</td>\n",
       "      <td>RN</td>\n",
       "      <td>ENTIDADES EMPRESARIAIS</td>\n",
       "      <td>INDUSTRIA DA CONSTRUCAO</td>\n",
       "      <td>CONSTRUÇÃO CIVIL</td>\n",
       "      <td>14.457534</td>\n",
       "      <td>10 a 15</td>\n",
       "      <td>...</td>\n",
       "      <td>43.738462</td>\n",
       "      <td>93.266667</td>\n",
       "      <td>19.166667</td>\n",
       "      <td>26.0</td>\n",
       "      <td>26.0</td>\n",
       "      <td>27.0</td>\n",
       "      <td>0.0</td>\n",
       "      <td>-3.703704</td>\n",
       "      <td>0.0</td>\n",
       "      <td>0</td>\n",
       "    </tr>\n",
       "    <tr>\n",
       "      <th>1</th>\n",
       "      <td>1</td>\n",
       "      <td>6178f41ade1365e44bc2c46654c2c8c0eaae27dcb476c4...</td>\n",
       "      <td>True</td>\n",
       "      <td>EMPRESARIO INDIVIDUAL</td>\n",
       "      <td>PI</td>\n",
       "      <td>OUTROS</td>\n",
       "      <td>SERVICOS DE ALOJAMENTO/ALIMENTACAO</td>\n",
       "      <td>SERVIÇO</td>\n",
       "      <td>1.463014</td>\n",
       "      <td>1 a 5</td>\n",
       "      <td>...</td>\n",
       "      <td>NaN</td>\n",
       "      <td>NaN</td>\n",
       "      <td>NaN</td>\n",
       "      <td>NaN</td>\n",
       "      <td>NaN</td>\n",
       "      <td>NaN</td>\n",
       "      <td>NaN</td>\n",
       "      <td>NaN</td>\n",
       "      <td>NaN</td>\n",
       "      <td>0</td>\n",
       "    </tr>\n",
       "  </tbody>\n",
       "</table>\n",
       "<p>2 rows × 182 columns</p>\n",
       "</div>"
      ],
      "text/plain": [
       "   Unnamed: 0                                                 id  fl_matriz  \\\n",
       "0           0  a6984c3ae395090e3bee8ad63c3758b110de096d5d8195...       True   \n",
       "1           1  6178f41ade1365e44bc2c46654c2c8c0eaae27dcb476c4...       True   \n",
       "\n",
       "            de_natureza_juridica sg_uf natureza_juridica_macro  \\\n",
       "0  SOCIEDADE EMPRESARIA LIMITADA    RN  ENTIDADES EMPRESARIAIS   \n",
       "1          EMPRESARIO INDIVIDUAL    PI                  OUTROS   \n",
       "\n",
       "                              de_ramo             setor  idade_empresa_anos  \\\n",
       "0             INDUSTRIA DA CONSTRUCAO  CONSTRUÇÃO CIVIL           14.457534   \n",
       "1  SERVICOS DE ALOJAMENTO/ALIMENTACAO           SERVIÇO            1.463014   \n",
       "\n",
       "  idade_emp_cat  ...  media_meses_servicos  max_meses_servicos  \\\n",
       "0       10 a 15  ...             43.738462           93.266667   \n",
       "1         1 a 5  ...                   NaN                 NaN   \n",
       "\n",
       "   min_meses_servicos  qt_funcionarios  qt_funcionarios_12meses  \\\n",
       "0           19.166667             26.0                     26.0   \n",
       "1                 NaN              NaN                      NaN   \n",
       "\n",
       "  qt_funcionarios_24meses  tx_crescimento_12meses  tx_crescimento_24meses  \\\n",
       "0                    27.0                     0.0               -3.703704   \n",
       "1                     NaN                     NaN                     NaN   \n",
       "\n",
       "   tx_rotatividade qt_filiais  \n",
       "0              0.0          0  \n",
       "1              NaN          0  \n",
       "\n",
       "[2 rows x 182 columns]"
      ]
     },
     "execution_count": 15,
     "metadata": {},
     "output_type": "execute_result"
    }
   ],
   "source": [
    "mercado.head(2)"
   ]
  },
  {
   "cell_type": "code",
   "execution_count": 16,
   "metadata": {},
   "outputs": [
    {
     "name": "stdout",
     "output_type": "stream",
     "text": [
      "Registros marcados como OUTROS em natureza_juridica_macro: 69.27%\n"
     ]
    }
   ],
   "source": [
    "print(\"Registros marcados como OUTROS em natureza_juridica_macro: {}%\".format(round(mercado[mercado['natureza_juridica_macro']==\"OUTROS\"].shape[0]/mercado.shape[0]*100,2)))"
   ]
  },
  {
   "cell_type": "markdown",
   "metadata": {},
   "source": [
    "Aqui vejo que a maioria dos registros da coluna \"natureza_juridica_macro\" está marcada como \"OUTROS\" o que não me parece uma informação relevante. Além disso, a variável \"de_natureza_juridica\" descreve essa mesma informação de forma diferente. Logo, decido por eliminar a variável \"natureza_juridica_macro\". "
   ]
  },
  {
   "cell_type": "markdown",
   "metadata": {},
   "source": [
    "Após a análise das variáveis de acordo com seu significado, eu julgo irrelevantes as variáveis:"
   ]
  },
  {
   "cell_type": "code",
   "execution_count": 17,
   "metadata": {},
   "outputs": [],
   "source": [
    "irrelevantes = ['Unnamed: 0', 'fl_matriz', \"natureza_juridica_macro\", 'idade_emp_cat', 'fl_me', 'fl_sa', 'fl_epp',\n",
    "                'fl_mei', 'fl_ltda', 'dt_situacao', 'fl_st_especial', 'fl_email', 'fl_telefone', 'fl_rm', 'fl_spa',\n",
    "                'fl_antt', 'fl_veiculo', 'vl_total_veiculos_pesados_grupo', 'vl_total_veiculos_leves_grupo',\n",
    "                'sg_uf_matriz', 'de_saude_rescencia', 'nu_meses_rescencia', 'fl_simples_irregular',\n",
    "                'empsetorcensitariofaixarendapopulacao', 'nm_micro_regiao', 'fl_passivel_iss', 'qt_socios',\n",
    "                'qt_socios_pj','qt_socios_pf',  'idade_media_socios', 'idade_maxima_socios', 'idade_minima_socios',\n",
    "                \"qt_socios_st_regular\", 'de_faixa_faturamento_estimado_grupo', 'vl_faturamento_estimado_aux',\n",
    "                'vl_faturamento_estimado_grupo_aux', 'qt_filiais']               "
   ]
  },
  {
   "cell_type": "markdown",
   "metadata": {},
   "source": [
    "# Pré-processamento dos dados"
   ]
  },
  {
   "cell_type": "markdown",
   "metadata": {},
   "source": [
    "##### Transformação1: remoção de atributos julgados irrelevantes"
   ]
  },
  {
   "cell_type": "code",
   "execution_count": 18,
   "metadata": {},
   "outputs": [],
   "source": [
    "mercado_1 = mercado.copy()"
   ]
  },
  {
   "cell_type": "code",
   "execution_count": 19,
   "metadata": {},
   "outputs": [
    {
     "name": "stdout",
     "output_type": "stream",
     "text": [
      "Atualizando: \n",
      "Número de variáveis: 145\n"
     ]
    }
   ],
   "source": [
    "# Remoção das variáveis julgadas irrelevantes com base no estudo das features.\n",
    "mercado_1.drop(columns= irrelevantes, inplace=True)\n",
    "print(\"Atualizando: \\nNúmero de variáveis: {}\".format(mercado_1.shape[1]))"
   ]
  },
  {
   "cell_type": "markdown",
   "metadata": {},
   "source": [
    "##### Transformação2: remoção das variáveis com mais de 50% de dados ausentes"
   ]
  },
  {
   "cell_type": "code",
   "execution_count": 20,
   "metadata": {},
   "outputs": [],
   "source": [
    "mercado_2 = mercado_1.copy()"
   ]
  },
  {
   "cell_type": "code",
   "execution_count": 21,
   "metadata": {},
   "outputs": [],
   "source": [
    "# Novo dataframe que mostra a quantidade de dados faltantes para cada variável.\n",
    "df_missing = pd.DataFrame({'Missing_values (%)': (mercado_2.isna().sum()/mercado_2.shape[0])*100})"
   ]
  },
  {
   "cell_type": "code",
   "execution_count": 22,
   "metadata": {},
   "outputs": [
    {
     "name": "stdout",
     "output_type": "stream",
     "text": [
      "Atualizando: \n",
      "Número de variáveis: 14\n"
     ]
    }
   ],
   "source": [
    "# Variáveis com mais de 50% de dados faltantes:\n",
    "var = df_missing[df_missing['Missing_values (%)']>50].index.to_list()\n",
    "\n",
    "# Remoção das variáveis:\n",
    "mercado_2.drop(columns = var, inplace=True)\n",
    "\n",
    "print(\"Atualizando: \\nNúmero de variáveis: {}\".format(mercado_2.shape[1]))"
   ]
  },
  {
   "cell_type": "markdown",
   "metadata": {},
   "source": [
    "##### Transformação3: remoção dos registros nas variáveis com menos de 5% de dados ausentes"
   ]
  },
  {
   "cell_type": "code",
   "execution_count": 23,
   "metadata": {},
   "outputs": [],
   "source": [
    "mercado_3 = mercado_2.copy()"
   ]
  },
  {
   "cell_type": "code",
   "execution_count": 24,
   "metadata": {},
   "outputs": [],
   "source": [
    "# Novo dataframe que mostra a quantidade de dados faltantes para cada variável.\n",
    "df_missing = pd.DataFrame({'Missing_values (%)': (mercado_3.isna().sum()/mercado_3.shape[0])*100})"
   ]
  },
  {
   "cell_type": "code",
   "execution_count": 25,
   "metadata": {},
   "outputs": [],
   "source": [
    "# Dataframe com as variáveis com algum dado fatante:\n",
    "df_missing_var = pd.DataFrame(df_missing[df_missing['Missing_values (%)']>0])"
   ]
  },
  {
   "cell_type": "markdown",
   "metadata": {},
   "source": [
    "Os dados que possuem menos de 5% dos dados ausentes, decido por eliminar os registros que estão faltando nessas variáveis. "
   ]
  },
  {
   "cell_type": "code",
   "execution_count": 26,
   "metadata": {},
   "outputs": [],
   "source": [
    "# Lista com as variáveis com menos de 5% de dados faltantes.\n",
    "var_less_5 = pd.DataFrame(df_missing_var[df_missing_var['Missing_values (%)']<5]).index.to_list()"
   ]
  },
  {
   "cell_type": "markdown",
   "metadata": {},
   "source": [
    "Agora verificarei se o cumulativo dos dados ausentes nessas variáveis não passa de 5% dos registros em todo o dataframe."
   ]
  },
  {
   "cell_type": "code",
   "execution_count": 27,
   "metadata": {},
   "outputs": [],
   "source": [
    "# Coletando a posição/índice dos dados ausentes:\n",
    "lista_index = []\n",
    "for i in var_less_5:\n",
    "    index = list(mercado_3.loc[(mercado_3[i].isnull()==True)].index)\n",
    "    lista_index.append(index)"
   ]
  },
  {
   "cell_type": "code",
   "execution_count": 28,
   "metadata": {},
   "outputs": [
    {
     "name": "stdout",
     "output_type": "stream",
     "text": [
      "Total de dados ausentes nas variáveis selecionadas 3.21%\n"
     ]
    }
   ],
   "source": [
    "# Concatenando todos os índices e verificando os valores únicos:\n",
    "indices = []\n",
    "i=0\n",
    "while i < len(lista_index):\n",
    "    indices = indices+lista_index[i]\n",
    "    i=i+1\n",
    "\n",
    "indices_unicos = list(set(indices))\n",
    "\n",
    "# Proporção do total dos valores ausentes das variáveis com menos de 5% de dados faltantes:\n",
    "print(\"Total de dados ausentes nas variáveis selecionadas {}%\".format(round(len(indices_unicos)/mercado_3.shape[0]*100,2)))"
   ]
  },
  {
   "cell_type": "markdown",
   "metadata": {},
   "source": [
    "Como o total dos valores ausentes nessas variáveis não passa de 5% dos registros, eliminarei esses registros."
   ]
  },
  {
   "cell_type": "code",
   "execution_count": 29,
   "metadata": {},
   "outputs": [],
   "source": [
    "# Ordenando os índices:\n",
    "indices_unicos.sort()"
   ]
  },
  {
   "cell_type": "code",
   "execution_count": 30,
   "metadata": {},
   "outputs": [],
   "source": [
    "# Dataframe com os índices a serem removidos:\n",
    "df_remove = mercado_3.iloc[indices_unicos]"
   ]
  },
  {
   "cell_type": "code",
   "execution_count": 31,
   "metadata": {},
   "outputs": [],
   "source": [
    "# Remoção dos registros:\n",
    "mercado_3 = mercado_3.drop(df_remove.index)"
   ]
  },
  {
   "cell_type": "markdown",
   "metadata": {},
   "source": [
    "##### Tranformação4: imputação nos dados ausentes restantes"
   ]
  },
  {
   "cell_type": "code",
   "execution_count": 32,
   "metadata": {},
   "outputs": [],
   "source": [
    "mercado_4 = mercado_3.copy()"
   ]
  },
  {
   "cell_type": "code",
   "execution_count": 33,
   "metadata": {},
   "outputs": [],
   "source": [
    "# Novo dataframe que mostra a quantidade de dados faltantes para cada variável.\n",
    "df_missing = pd.DataFrame({'Missing_values (%)': (mercado_4.isna().sum()/mercado_4.shape[0])*100})"
   ]
  },
  {
   "cell_type": "code",
   "execution_count": 34,
   "metadata": {},
   "outputs": [
    {
     "data": {
      "text/html": [
       "<div>\n",
       "<style scoped>\n",
       "    .dataframe tbody tr th:only-of-type {\n",
       "        vertical-align: middle;\n",
       "    }\n",
       "\n",
       "    .dataframe tbody tr th {\n",
       "        vertical-align: top;\n",
       "    }\n",
       "\n",
       "    .dataframe thead th {\n",
       "        text-align: right;\n",
       "    }\n",
       "</style>\n",
       "<table border=\"1\" class=\"dataframe\">\n",
       "  <thead>\n",
       "    <tr style=\"text-align: right;\">\n",
       "      <th></th>\n",
       "      <th>Missing_values (%)</th>\n",
       "    </tr>\n",
       "  </thead>\n",
       "  <tbody>\n",
       "    <tr>\n",
       "      <th>fl_optante_simples</th>\n",
       "      <td>15.169841</td>\n",
       "    </tr>\n",
       "    <tr>\n",
       "      <th>fl_optante_simei</th>\n",
       "      <td>15.169841</td>\n",
       "    </tr>\n",
       "    <tr>\n",
       "      <th>nm_meso_regiao</th>\n",
       "      <td>12.324141</td>\n",
       "    </tr>\n",
       "    <tr>\n",
       "      <th>de_faixa_faturamento_estimado</th>\n",
       "      <td>3.382970</td>\n",
       "    </tr>\n",
       "  </tbody>\n",
       "</table>\n",
       "</div>"
      ],
      "text/plain": [
       "                               Missing_values (%)\n",
       "fl_optante_simples                      15.169841\n",
       "fl_optante_simei                        15.169841\n",
       "nm_meso_regiao                          12.324141\n",
       "de_faixa_faturamento_estimado            3.382970"
      ]
     },
     "execution_count": 34,
     "metadata": {},
     "output_type": "execute_result"
    }
   ],
   "source": [
    "# Variáveis com pelo menos um dado faltante.\n",
    "df_missing[df_missing['Missing_values (%)']>0]"
   ]
  },
  {
   "cell_type": "code",
   "execution_count": 35,
   "metadata": {},
   "outputs": [],
   "source": [
    "# Lista com essas variáveis:\n",
    "var = df_missing[df_missing['Missing_values (%)']>0].index.to_list()"
   ]
  },
  {
   "cell_type": "code",
   "execution_count": 36,
   "metadata": {},
   "outputs": [
    {
     "data": {
      "text/plain": [
       "fl_optante_simples               object\n",
       "fl_optante_simei                 object\n",
       "nm_meso_regiao                   object\n",
       "de_faixa_faturamento_estimado    object\n",
       "dtype: object"
      ]
     },
     "execution_count": 36,
     "metadata": {},
     "output_type": "execute_result"
    }
   ],
   "source": [
    "mercado_4[var].dtypes"
   ]
  },
  {
   "cell_type": "markdown",
   "metadata": {},
   "source": [
    "Como todas são variáveis categóricas, decido por fazer a imputação com o valor da moda de cada variável."
   ]
  },
  {
   "cell_type": "code",
   "execution_count": 37,
   "metadata": {},
   "outputs": [],
   "source": [
    "# Substituindo pela moda:\n",
    "for i in var:\n",
    "    mercado_4[i].fillna(mode(mercado_4[i]), inplace=True)"
   ]
  },
  {
   "cell_type": "code",
   "execution_count": 38,
   "metadata": {},
   "outputs": [
    {
     "data": {
      "text/plain": [
       "0"
      ]
     },
     "execution_count": 38,
     "metadata": {},
     "output_type": "execute_result"
    }
   ],
   "source": [
    "# Verificando os valores ausentes no dataframe\n",
    "mercado_4.isnull().sum().sum()"
   ]
  },
  {
   "cell_type": "markdown",
   "metadata": {},
   "source": [
    "Mais nenhum dado faltando no dataset - **dados ausentes tratados!**"
   ]
  },
  {
   "cell_type": "code",
   "execution_count": 39,
   "metadata": {},
   "outputs": [
    {
     "name": "stdout",
     "output_type": "stream",
     "text": [
      "Estamos com 14 variáveis\n"
     ]
    }
   ],
   "source": [
    "print(\"Estamos com {} variáveis\".format(mercado_4.shape[1]))"
   ]
  },
  {
   "cell_type": "markdown",
   "metadata": {},
   "source": [
    "##### Tranformação5: codificar as variáveis categóricas"
   ]
  },
  {
   "cell_type": "code",
   "execution_count": 40,
   "metadata": {},
   "outputs": [],
   "source": [
    "mercado_5 = mercado_4.copy()"
   ]
  },
  {
   "cell_type": "code",
   "execution_count": 41,
   "metadata": {},
   "outputs": [],
   "source": [
    "# Alterando os dados booleanos para binários:\n",
    "mercado_5 = mercado_5.replace({True: 1, False:0})"
   ]
  },
  {
   "cell_type": "code",
   "execution_count": 42,
   "metadata": {},
   "outputs": [],
   "source": [
    "# Definindo as variáveis categóricas:\n",
    "cat_features = mercado_5.select_dtypes(include=['object']).columns.to_list()\n",
    "cat_features.remove('id')"
   ]
  },
  {
   "cell_type": "code",
   "execution_count": 43,
   "metadata": {},
   "outputs": [
    {
     "name": "stdout",
     "output_type": "stream",
     "text": [
      "Variáveis categóricas: \n",
      "['de_natureza_juridica', 'sg_uf', 'de_ramo', 'setor', 'nm_divisao', 'nm_segmento', 'de_saude_tributaria', 'de_nivel_atividade', 'nm_meso_regiao', 'de_faixa_faturamento_estimado']\n"
     ]
    }
   ],
   "source": [
    "print(\"Variáveis categóricas: \\n{}\".format(cat_features))"
   ]
  },
  {
   "cell_type": "code",
   "execution_count": 44,
   "metadata": {},
   "outputs": [],
   "source": [
    "# Transformando as colunas com o LabelEncoder\n",
    "\n",
    "encoder = LabelEncoder()\n",
    "for label in cat_features:\n",
    "    label_coluna = 'cod_' + label\n",
    "    mercado_5[label_coluna] = encoder.fit_transform(mercado_5[label])"
   ]
  },
  {
   "cell_type": "markdown",
   "metadata": {},
   "source": [
    "##### Tranformação6: identificar os portfolios na base mercado \n",
    "Aqui criarei um dataset em que os clientes dos portfolios estarão identificados na base mercado."
   ]
  },
  {
   "cell_type": "code",
   "execution_count": 45,
   "metadata": {},
   "outputs": [],
   "source": [
    "mercado_6 = mercado_5.copy()"
   ]
  },
  {
   "cell_type": "code",
   "execution_count": 46,
   "metadata": {},
   "outputs": [],
   "source": [
    "# Preparando os portfolios para entrarem no dataset mercado:\n",
    "\n",
    "# Transformando o id em index no portfolio 1:\n",
    "portfolio_1.set_index('id', inplace=True)\n",
    "# Retirarando as colunas do portfolio 1:\n",
    "portfolio_1.drop(columns= portfolio_1.columns, inplace=True)\n",
    "# Resetando o index:\n",
    "portfolio_1.reset_index(inplace=True)\n",
    "\n",
    "# Retirando as colunas dos portfolios 2 e 3:\n",
    "portfolio_2.drop(columns= 'Unnamed: 0', inplace=True)\n",
    "portfolio_3.drop(columns= 'Unnamed: 0', inplace=True)"
   ]
  },
  {
   "cell_type": "code",
   "execution_count": 47,
   "metadata": {},
   "outputs": [],
   "source": [
    "# Adicionando identificação dos portifólios:\n",
    "portfolio_1['portfolio'] = 1\n",
    "portfolio_2['portfolio'] = 2\n",
    "portfolio_3['portfolio'] = 3"
   ]
  },
  {
   "cell_type": "code",
   "execution_count": 48,
   "metadata": {},
   "outputs": [],
   "source": [
    "# Dataframe com todos os clientes:\n",
    "clientes = pd.concat([portfolio_1, portfolio_2, portfolio_3])"
   ]
  },
  {
   "cell_type": "code",
   "execution_count": 49,
   "metadata": {},
   "outputs": [
    {
     "data": {
      "text/plain": [
       "portfolio\n",
       "1    555\n",
       "2    566\n",
       "3    265\n",
       "dtype: int64"
      ]
     },
     "execution_count": 49,
     "metadata": {},
     "output_type": "execute_result"
    }
   ],
   "source": [
    "clientes.groupby('portfolio').size()"
   ]
  },
  {
   "cell_type": "code",
   "execution_count": 50,
   "metadata": {},
   "outputs": [],
   "source": [
    "# Nesse dataset, os clientes dos portfolios estarão identificados na coluna \"portfolio\".\n",
    "mercado_6 = mercado_6.merge(clientes, on='id', how='left')"
   ]
  },
  {
   "cell_type": "code",
   "execution_count": 51,
   "metadata": {},
   "outputs": [],
   "source": [
    "# O restante dos clientes estarão identificados como zero.\n",
    "mercado_6['portfolio'].fillna(0, inplace=True)"
   ]
  },
  {
   "cell_type": "code",
   "execution_count": 52,
   "metadata": {},
   "outputs": [
    {
     "data": {
      "text/plain": [
       "portfolio\n",
       "0.0    446180\n",
       "1.0       544\n",
       "2.0       566\n",
       "3.0       265\n",
       "dtype: int64"
      ]
     },
     "execution_count": 52,
     "metadata": {},
     "output_type": "execute_result"
    }
   ],
   "source": [
    "mercado_6.groupby('portfolio').size()"
   ]
  },
  {
   "cell_type": "markdown",
   "metadata": {},
   "source": [
    "##### Dados de entrada"
   ]
  },
  {
   "cell_type": "code",
   "execution_count": 53,
   "metadata": {},
   "outputs": [],
   "source": [
    "features = [ \n",
    "    'fl_optante_simei','fl_optante_simples','idade_empresa_anos','cod_de_natureza_juridica', 'cod_sg_uf', \n",
    "    'cod_de_ramo', 'cod_setor', 'cod_nm_divisao', 'cod_nm_segmento', 'cod_de_nivel_atividade', \n",
    "    'cod_nm_meso_regiao', 'cod_de_faixa_faturamento_estimado','cod_de_saude_tributaria']"
   ]
  },
  {
   "cell_type": "code",
   "execution_count": 54,
   "metadata": {},
   "outputs": [],
   "source": [
    "# Dados de entrada no modelo:\n",
    "X = mercado_6[features]"
   ]
  },
  {
   "cell_type": "markdown",
   "metadata": {},
   "source": [
    "### Normalização\n",
    "A normalização refere-se ao reescalonamento dos dados. Esse pré-processamento é útil quando usamos algoritmos que usam medidas de distância, como é o caso do k-means.\n",
    "\n",
    "Esse processo não altera a informação contida nos dados, ela apenas deixa os dados em uma mesma escala. Dessa forma, a escala dos dados não distorcerá o grau de importancia das obervações para o algoritmo, dado que todos estão em uma mesma escala."
   ]
  },
  {
   "cell_type": "code",
   "execution_count": 55,
   "metadata": {},
   "outputs": [],
   "source": [
    "# Transformando os dados para a mesma escala (entre 0 e 1):\n",
    "\n",
    "# Gerando a nova escala (normalizando os dados):\n",
    "scaler = MinMaxScaler(feature_range = (0, 1))\n",
    "rescaledX = scaler.fit_transform(X)"
   ]
  },
  {
   "cell_type": "code",
   "execution_count": 56,
   "metadata": {},
   "outputs": [],
   "source": [
    "# Transformando em um dataframe:\n",
    "dados = pd.DataFrame(rescaledX, columns = mercado_6[features].columns)"
   ]
  },
  {
   "cell_type": "code",
   "execution_count": 57,
   "metadata": {},
   "outputs": [],
   "source": [
    "# Dados de entrada normalizados:\n",
    "X = dados"
   ]
  },
  {
   "cell_type": "markdown",
   "metadata": {},
   "source": [
    "### Preparação dos dados para dar entrada no app do Heroku\n",
    "Aqui salvarei o dataframe mercado com os dados tratados para que ele possa entrar no app e ser treinado. Aqui também precisarei dividir o dataframe pois ele é muito grande e o git não suportaria."
   ]
  },
  {
   "cell_type": "code",
   "execution_count": 59,
   "metadata": {},
   "outputs": [],
   "source": [
    "# Adicionar a dentificação dos clientes:\n",
    "dados['id']=mercado_6.id"
   ]
  },
  {
   "cell_type": "code",
   "execution_count": 64,
   "metadata": {},
   "outputs": [],
   "source": [
    "# Dividir o dataframe e salvar:\n",
    "dados.loc[:115000, :].to_csv('mercado_1.csv', index=False)\n",
    "dados.loc[115001:230000, :].to_csv('mercado_2.csv', index=False)\n",
    "dados.loc[230001:345000, :].to_csv('mercado_3.csv', index=False)\n",
    "dados.loc[345001:, :].to_csv('mercado_4.csv', index=False)"
   ]
  },
  {
   "cell_type": "markdown",
   "metadata": {},
   "source": [
    "# Modelo\n",
    "Modelo escolhido: **KMeans**"
   ]
  },
  {
   "cell_type": "markdown",
   "metadata": {},
   "source": [
    "#### Escolha do valor de k (número de clusters)"
   ]
  },
  {
   "cell_type": "markdown",
   "metadata": {},
   "source": [
    "##### Método Elbow"
   ]
  },
  {
   "cell_type": "markdown",
   "metadata": {},
   "source": [
    "O Método de Elbow avalia como a homogeneidade ou heterogeneidade dentro dos clusters muda para vários valores de k. Conforme o número de clusters aumenta, esse método testa até o momento que esse aumento no valor de k não representa um valor significativo de ganho.\n",
    "\n",
    "Ao aumentar o número de clusters, a tendencia é que as diferenças entre clusters se tornem muito pequenas e as diferenças intra-clusters aumentem. Então é preciso achar um equilíbrio em que as observações dentro do cluster sejam o mais homogêneas possível e que as observações entre os clusters sejam o mais diferente um dos outros.\n",
    "\n",
    "No gráfico abaixo, obervo que esse equilíbrio começa a ser definido a partir de k=3."
   ]
  },
  {
   "cell_type": "code",
   "execution_count": 58,
   "metadata": {},
   "outputs": [
    {
     "name": "stdout",
     "output_type": "stream",
     "text": [
      "1 572376.9760786669\n",
      "2 433392.5334582455\n",
      "3 341936.85760120227\n",
      "4 305873.19250507024\n",
      "5 275090.85089893994\n",
      "6 257768.4633465142\n",
      "7 246418.24804897522\n",
      "8 236935.7053846285\n",
      "9 228568.19991397084\n",
      "10 220292.20231123053\n"
     ]
    },
    {
     "data": {
      "image/png": "[encoded data removed]",
      "text/plain": [
       "<Figure size 432x288 with 1 Axes>"
      ]
     },
     "metadata": {
      "needs_background": "light"
     },
     "output_type": "display_data"
    }
   ],
   "source": [
    "X_elbow = X\n",
    "wcss = []\n",
    " \n",
    "for i in range(1, 11):\n",
    "    kmeans_elbow = KMeans(n_clusters = i)\n",
    "    kmeans_elbow.fit(X_elbow)\n",
    "    print (i, kmeans_elbow.inertia_)\n",
    "    wcss.append(kmeans_elbow.inertia_)  \n",
    "plt.plot(range(1, 11), wcss)\n",
    "plt.title('O Metodo Elbow')\n",
    "plt.xlabel('Numero de Clusters')\n",
    "plt.ylabel('WSS') \n",
    "plt.show()"
   ]
  },
  {
   "cell_type": "markdown",
   "metadata": {},
   "source": [
    "Agora então, avaliarei o desempenho do modelo para uma faixa de 3 a 10 clusters."
   ]
  },
  {
   "cell_type": "code",
   "execution_count": 59,
   "metadata": {},
   "outputs": [
    {
     "name": "stdout",
     "output_type": "stream",
     "text": [
      "K = 3\n",
      "Portfolio1 Cluster 0 - Percentual de acerto 44%\n",
      "Portfolio2 Cluster 1 - Percentual de acerto 95%\n",
      "Portfolio3 Cluster 1 - Percentual de acerto 95%\n",
      "\n",
      "\n",
      "K = 4\n",
      "Portfolio1 Cluster 0 - Percentual de acerto 44%\n",
      "Portfolio2 Cluster 3 - Percentual de acerto 62%\n",
      "Portfolio3 Cluster 3 - Percentual de acerto 57%\n",
      "\n",
      "\n",
      "K = 5\n",
      "Portfolio1 Cluster 2 - Percentual de acerto 43%\n",
      "Portfolio2 Cluster 3 - Percentual de acerto 62%\n",
      "Portfolio3 Cluster 3 - Percentual de acerto 57%\n",
      "\n",
      "\n",
      "K = 6\n",
      "Portfolio1 Cluster 1 - Percentual de acerto 43%\n",
      "Portfolio2 Cluster 3 - Percentual de acerto 62%\n",
      "Portfolio3 Cluster 3 - Percentual de acerto 57%\n",
      "\n",
      "\n",
      "K = 7\n",
      "Portfolio1 Cluster 6 - Percentual de acerto 31%\n",
      "Portfolio2 Cluster 6 - Percentual de acerto 62%\n",
      "Portfolio3 Cluster 6 - Percentual de acerto 57%\n",
      "\n",
      "\n",
      "K = 8\n",
      "Portfolio1 Cluster 2 - Percentual de acerto 43%\n",
      "Portfolio2 Cluster 4 - Percentual de acerto 65%\n",
      "Portfolio3 Cluster 4 - Percentual de acerto 79%\n",
      "\n",
      "\n",
      "K = 9\n",
      "Portfolio1 Cluster 3 - Percentual de acerto 31%\n",
      "Portfolio2 Cluster 8 - Percentual de acerto 64%\n",
      "Portfolio3 Cluster 8 - Percentual de acerto 79%\n",
      "\n",
      "\n",
      "K = 10\n",
      "Portfolio1 Cluster 2 - Percentual de acerto 29%\n",
      "Portfolio2 Cluster 9 - Percentual de acerto 57%\n",
      "Portfolio3 Cluster 9 - Percentual de acerto 49%\n",
      "\n",
      "\n"
     ]
    }
   ],
   "source": [
    "# Validação da divisão dos clusters\n",
    "mercado_valida = mercado_6.copy()\n",
    "for i in range(3, 11):\n",
    "    modelo = KMeans(n_clusters = i)\n",
    "    modelo.fit(X)\n",
    "    mercado_valida['kmeans'] = modelo.labels_\n",
    "    print('K = {}'.format(i))\n",
    "    for j in range(1,4):\n",
    "        acerto = mercado_valida.query('portfolio == @j')['kmeans'].value_counts().max()/mercado_valida.query('portfolio == @j').shape[0]\n",
    "        cluster = mercado_valida.query('portfolio == @j')['kmeans'].value_counts().index[0]\n",
    "        print('Portfolio{}'.format(j), 'Cluster {}'.format(cluster), '- Percentual de acerto {:.0%}'.format(acerto))\n",
    "    print('\\n')"
   ]
  },
  {
   "cell_type": "markdown",
   "metadata": {},
   "source": [
    "Escolho por **k = 7** em que os acertos estão mais satisfatórios."
   ]
  },
  {
   "cell_type": "code",
   "execution_count": 60,
   "metadata": {},
   "outputs": [],
   "source": [
    "k=7"
   ]
  },
  {
   "cell_type": "markdown",
   "metadata": {},
   "source": [
    "#### Treinamento do modelo"
   ]
  },
  {
   "cell_type": "code",
   "execution_count": 61,
   "metadata": {},
   "outputs": [],
   "source": [
    "# Criação do modelo:\n",
    "modelo = KMeans(n_clusters = k)"
   ]
  },
  {
   "cell_type": "code",
   "execution_count": 111,
   "metadata": {},
   "outputs": [
    {
     "data": {
      "text/plain": [
       "KMeans(n_clusters=7)"
      ]
     },
     "execution_count": 111,
     "metadata": {},
     "output_type": "execute_result"
    }
   ],
   "source": [
    "# Treinamento do modelo:\n",
    "modelo.fit(X)"
   ]
  },
  {
   "cell_type": "code",
   "execution_count": 63,
   "metadata": {},
   "outputs": [],
   "source": [
    "# Previsões:\n",
    "y_pred = modelo.predict(X)"
   ]
  },
  {
   "cell_type": "code",
   "execution_count": 64,
   "metadata": {
    "scrolled": true
   },
   "outputs": [],
   "source": [
    "# Centroides:\n",
    "centr = modelo.cluster_centers_"
   ]
  },
  {
   "cell_type": "code",
   "execution_count": 65,
   "metadata": {},
   "outputs": [],
   "source": [
    "# Adicionando as classes no df\n",
    "labels = modelo.labels_\n",
    "mercado_6['kmeans'] = labels"
   ]
  },
  {
   "cell_type": "code",
   "execution_count": 66,
   "metadata": {},
   "outputs": [
    {
     "name": "stdout",
     "output_type": "stream",
     "text": [
      "Divisão das classe pelo K-means\n"
     ]
    },
    {
     "data": {
      "text/plain": [
       "2    108353\n",
       "6     70614\n",
       "1     65103\n",
       "3     62113\n",
       "4     56322\n",
       "0     47332\n",
       "5     37718\n",
       "Name: kmeans, dtype: int64"
      ]
     },
     "execution_count": 66,
     "metadata": {},
     "output_type": "execute_result"
    }
   ],
   "source": [
    "# Verificando como ficou a divisão dos clusters\n",
    "print('Divisão das classe pelo K-means')\n",
    "mercado_6['kmeans'].value_counts()"
   ]
  },
  {
   "cell_type": "markdown",
   "metadata": {},
   "source": [
    "##### Avaliação da performance "
   ]
  },
  {
   "cell_type": "code",
   "execution_count": 67,
   "metadata": {},
   "outputs": [
    {
     "name": "stdout",
     "output_type": "stream",
     "text": [
      "Portfolio1 Cluster 2 - Percentual de acerto 43%\n",
      "Portfolio2 Cluster 0 - Percentual de acerto 79%\n",
      "Portfolio3 Cluster 0 - Percentual de acerto 76%\n"
     ]
    }
   ],
   "source": [
    "for j in range(1,4):\n",
    "        acerto = mercado_6.query('portfolio == @j')['kmeans'].value_counts().max()/mercado_valida.query('portfolio == @j').shape[0]\n",
    "        cluster = mercado_6.query('portfolio == @j')['kmeans'].value_counts().index[0]\n",
    "        print('Portfolio{}'.format(j), 'Cluster {}'.format(cluster), '- Percentual de acerto {:.0%}'.format(acerto))"
   ]
  },
  {
   "cell_type": "code",
   "execution_count": 68,
   "metadata": {},
   "outputs": [],
   "source": [
    "# Separando os portifolios para Análise:\n",
    "df_mercado = mercado_6.query('portfolio == 0')\n",
    "df_p1 = mercado_6.query('portfolio == 1')\n",
    "df_p2 = mercado_6.query('portfolio == 2')\n",
    "df_p3 = mercado_6.query('portfolio == 3')"
   ]
  },
  {
   "cell_type": "code",
   "execution_count": 69,
   "metadata": {},
   "outputs": [
    {
     "data": {
      "text/plain": [
       "2    108108\n",
       "6     70514\n",
       "1     65070\n",
       "3     61950\n",
       "4     56187\n",
       "0     46636\n",
       "5     37715\n",
       "Name: kmeans, dtype: int64"
      ]
     },
     "execution_count": 69,
     "metadata": {},
     "output_type": "execute_result"
    }
   ],
   "source": [
    "df_mercado['kmeans'].value_counts()"
   ]
  },
  {
   "cell_type": "code",
   "execution_count": 138,
   "metadata": {},
   "outputs": [
    {
     "data": {
      "text/plain": [
       "2    236\n",
       "4    135\n",
       "3    120\n",
       "0     47\n",
       "5      3\n",
       "1      2\n",
       "6      1\n",
       "Name: kmeans, dtype: int64"
      ]
     },
     "execution_count": 138,
     "metadata": {},
     "output_type": "execute_result"
    }
   ],
   "source": [
    "df_p1['kmeans'].value_counts()"
   ]
  },
  {
   "cell_type": "markdown",
   "metadata": {},
   "source": [
    "Para a empresa do portfolio 1, eu recomendaria os clientes do cluster 5."
   ]
  },
  {
   "cell_type": "code",
   "execution_count": 71,
   "metadata": {},
   "outputs": [
    {
     "data": {
      "text/plain": [
       "0    447\n",
       "6     63\n",
       "3     29\n",
       "1     18\n",
       "2      9\n",
       "Name: kmeans, dtype: int64"
      ]
     },
     "execution_count": 71,
     "metadata": {},
     "output_type": "execute_result"
    }
   ],
   "source": [
    "df_p2['kmeans'].value_counts()"
   ]
  },
  {
   "cell_type": "markdown",
   "metadata": {},
   "source": [
    "Para a empresa do portfolio 2, eu recomendaria os clientes do cluster 0."
   ]
  },
  {
   "cell_type": "code",
   "execution_count": 72,
   "metadata": {},
   "outputs": [
    {
     "data": {
      "text/plain": [
       "0    202\n",
       "6     36\n",
       "3     14\n",
       "1     13\n",
       "Name: kmeans, dtype: int64"
      ]
     },
     "execution_count": 72,
     "metadata": {},
     "output_type": "execute_result"
    }
   ],
   "source": [
    "df_p3['kmeans'].value_counts()"
   ]
  },
  {
   "cell_type": "markdown",
   "metadata": {},
   "source": [
    "Para a empresa do portfolio 3, eu recomendaria os clientes do cluster 0."
   ]
  },
  {
   "cell_type": "markdown",
   "metadata": {},
   "source": [
    "# Conclusão"
   ]
  },
  {
   "cell_type": "markdown",
   "metadata": {},
   "source": [
    "No modelo proposto, a escolha por k=7 atigiu uma performance de 43% para o portfólio1, 74% para o porfolio 2 e 70% para o porfolio3.\n",
    "\n",
    "Sugestões para melhorar o modelo:\n",
    "\n",
    "1. Feature Engineering\n",
    "\n",
    "2. Testar outros algoritmos"
   ]
  },
  {
   "cell_type": "code",
   "execution_count": null,
   "metadata": {},
   "outputs": [],
   "source": []
  }
 ],
 "metadata": {
  "kernelspec": {
   "display_name": "Python 3",
   "language": "python",
   "name": "python3"
  },
  "language_info": {
   "codemirror_mode": {
    "name": "ipython",
    "version": 3
   },
   "file_extension": ".py",
   "mimetype": "text/x-python",
   "name": "python",
   "nbconvert_exporter": "python",
   "pygments_lexer": "ipython3",
   "version": "3.7.3"
  }
 },
 "nbformat": 4,
 "nbformat_minor": 2
}
